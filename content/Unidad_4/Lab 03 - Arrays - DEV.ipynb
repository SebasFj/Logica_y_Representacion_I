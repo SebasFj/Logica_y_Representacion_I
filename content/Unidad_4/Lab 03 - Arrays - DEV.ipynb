{
 "cells": [
  {
   "cell_type": "markdown",
   "metadata": {
    "id": "OrjEJF1IPclS"
   },
   "source": [
    "<img src=\"https://raw.githubusercontent.com/carlosmera20/Logica_y_Representacion_I/main/content/local/imgs/encabezado.png\">\n",
    "\n",
    "<font size=4>\n",
    "📢 <b>Profesor:</b> Carlos Andres Mera Banguero - <a href=\"https://github.com/carlosmera20/\">https://github.com/carlosmera20/</a><br/>\n",
    "💻 <b>Programa:</b> Ingeniería de Sistemas <br/><br/>\n",
    "</font>"
   ]
  },
  {
   "cell_type": "markdown",
   "metadata": {
    "id": "dK27CGn9ARvA"
   },
   "source": [
    "# 🐍 <b>LAB 01 - Arrays</b>"
   ]
  },
  {
   "cell_type": "code",
   "execution_count": 1,
   "metadata": {
    "colab": {
     "base_uri": "https://localhost:8080/",
     "height": 75
    },
    "executionInfo": {
     "elapsed": 917,
     "status": "ok",
     "timestamp": 1708524849191,
     "user": {
      "displayName": "CARLOS ANDRES MERA BANGUERO",
      "userId": "05778031066984897450"
     },
     "user_tz": 300
    },
    "id": "nG68ZO4zPclV",
    "outputId": "cf568e41-45b8-4436-82cf-bbd1220aca35"
   },
   "outputs": [
    {
     "data": {
      "text/html": [
       "\n",
       "<meta name=\"google-signin-client_id\"\n",
       "      content=\"461673936472-kdjosv61up3ac1ajeuq6qqu72upilmls.apps.googleusercontent.com\"/>\n",
       "<script src=\"https://apis.google.com/js/client:platform.js?onload=google_button_start\"></script>\n",
       "    "
      ],
      "text/plain": [
       "<IPython.core.display.HTML object>"
      ]
     },
     "metadata": {},
     "output_type": "display_data"
    },
    {
     "name": "stdout",
     "output_type": "stream",
     "text": [
      "replicating local resources\n"
     ]
    },
    {
     "data": {
      "text/html": [
       "<h3>See <a href='https://m5knaekxo6.execute-api.us-west-2.amazonaws.com/dev-v0001/rlxmooc/web/login' target='_blank'>my courses and progress</a></h2>"
      ],
      "text/plain": [
       "<IPython.core.display.HTML object>"
      ]
     },
     "execution_count": 1,
     "metadata": {},
     "output_type": "execute_result"
    }
   ],
   "source": [
    "!wget --no-cache -O init.py -q https://raw.githubusercontent.com/carlosmera20/Logica_y_Representacion_I/main/content/init.py\n",
    "import init; init.init(force_download=False); init.get_weblink()"
   ]
  },
  {
   "cell_type": "code",
   "execution_count": 2,
   "metadata": {
    "colab": {
     "base_uri": "https://localhost:8080/",
     "height": 136,
     "referenced_widgets": [
      "c8b6c1d18d1340768f09c154c528547e",
      "0ce293a738504c17887d5143b61d30e0",
      "5d08d53ef29242499df2bc9bc1b35e28",
      "b7a2f7ae7ccf4057b9a81695dc9f5d4b",
      "b911958937c942b2bd5649f387a02efd",
      "5fcabdbbf3d74db2a72c9824ea164dc0",
      "3e4c1628d98549adb053e8fa9c933523",
      "7dbaa2346d4d46d491feece83da8ee8e",
      "ffcdc84975584c99906cdb62a85f22a1",
      "e792079cfa1e432eb3055a61d4a3ff73",
      "d713d59106d84601a8925207e9d68a2c",
      "fc493359ed3c490693c499712dc183e0",
      "ab237b9d4ff949a4a3047cbd7fe755db",
      "8620b4c51ff840d89bb836236d5c46d5",
      "091d7b6555684e5698115e08b67479c6",
      "05dd96008f804e6889f9a8799416991e",
      "2222fb037ded4de58820560020714de8",
      "c3ae6cdcaa644c2eaa80a57900e6797b",
      "933b611d08e142868a8b9c8262cfe9ee"
     ]
    },
    "executionInfo": {
     "elapsed": 2141,
     "status": "ok",
     "timestamp": 1708524853211,
     "user": {
      "displayName": "CARLOS ANDRES MERA BANGUERO",
      "userId": "05778031066984897450"
     },
     "user_tz": 300
    },
    "id": "ZKuvE7MEPclX",
    "outputId": "716e4331-fc5f-4585-ca02-8c23c3de05bd"
   },
   "outputs": [
    {
     "name": "stdout",
     "output_type": "stream",
     "text": [
      "logging in as carlos.mera@udea.edu.co... please wait\n",
      "using course session LOGICA_1::2024.1\n",
      "success!! you are logged in\n"
     ]
    }
   ],
   "source": [
    "import inspect\n",
    "from local.lib.rlxmoocapi import session\n",
    "session.LoginSequence(endpoint=init.endpoint, course_id=init.course_id, lab_id=\"LR01.01\", varname=\"student\");"
   ]
  },
  {
   "cell_type": "markdown",
   "metadata": {
    "id": "UYlsggsBPclX"
   },
   "source": [
    "# 🚊 **Exercise 1:**\n",
    "\n",
    "Given an array of integers greater than zero, find if it is possible to split it in two subarrays (without reordering the elements), such that the sum of the two subarrays is the same. Print the two subarrays.\n",
    "\n",
    "**Example**\n",
    "\n",
    "````\n",
    "Input : Arr[] = { 1 , 2 , 3 , 4 , 5 , 5  }\n",
    "Output :  { 1 2 3 4 } \n",
    "          { 5 , 5 }\n",
    "\n",
    "Input : Arr[] = { 4, 1, 2, 3 }\n",
    "Output : {4 1}\n",
    "         {2 3}\n",
    "\n",
    "Input : Arr[] = { 4, 3, 2, 1}\n",
    "Output : Not Possible\n",
    "````"
   ]
  },
  {
   "cell_type": "code",
   "execution_count": null,
   "metadata": {
    "id": "Y69y0Y02PclY"
   },
   "outputs": [],
   "source": [
    "## --- YOUR CODE HERE ---"
   ]
  },
  {
   "cell_type": "markdown",
   "metadata": {
    "id": "ZpecKUD7PclY"
   },
   "source": [
    "The value of the speed of light is $2.99792458 \\times 10^8$. Define a constant with that name to save that value."
   ]
  },
  {
   "cell_type": "code",
   "execution_count": null,
   "metadata": {
    "id": "hh3syB0DPclY"
   },
   "outputs": [],
   "source": [
    "## --- YOUR CODE HERE ---"
   ]
  },
  {
   "cell_type": "code",
   "execution_count": 11,
   "metadata": {
    "executionInfo": {
     "elapsed": 196,
     "status": "ok",
     "timestamp": 1708525561618,
     "user": {
      "displayName": "CARLOS ANDRES MERA BANGUERO",
      "userId": "05778031066984897450"
     },
     "user_tz": 300
    },
    "id": "7C03W8qHa4Sl"
   },
   "outputs": [],
   "source": [
    "## TEACHER ANSWER\n",
    "car_brand = \"VolvoXX\"\n",
    "SPEED_OF_LIGHT = 299792458"
   ]
  },
  {
   "cell_type": "code",
   "execution_count": 12,
   "metadata": {
    "executionInfo": {
     "elapsed": 332,
     "status": "ok",
     "timestamp": 1708525562688,
     "user": {
      "displayName": "CARLOS ANDRES MERA BANGUERO",
      "userId": "05778031066984897450"
     },
     "user_tz": 300
    },
    "id": "brsHUwmNPclY"
   },
   "outputs": [],
   "source": [
    "## TEACHER DEFINED GRADER\n",
    "def grader_01(functions, variables, caller_userid):\n",
    "\n",
    "    error = False\n",
    "    grade = 0\n",
    "\n",
    "    msg = \"<pre>\\n\"\n",
    "    msg += \"Checking your code ...\\n\\n\"\n",
    "\n",
    "    # Try to recover variable car_brand\n",
    "    try:\n",
    "        #car_brand = globals()[\"car_brand\"]\n",
    "        car_brand = variables[\"car_brand\"]\n",
    "    except:\n",
    "        car_brand = None\n",
    "\n",
    "    # Try to recover variable SPEED_OF_LIGTH\n",
    "    try:\n",
    "        #SPEED_OF_LIGTH = globals()['SPEED_OF_LIGTH']\n",
    "        SPEED_OF_LIGTH = variables['SPEED_OF_LIGHT']\n",
    "    except:\n",
    "        SPEED_OF_LIGTH = None\n",
    "\n",
    "    # Evaluate the variable's values\n",
    "    if (car_brand == None and SPEED_OF_LIGHT == None):\n",
    "        msg += u\"<b><font color='red'> &#127919 Your answer is incorrect:</font></b> check your code because the variables to save the values for the car brand and speed of light are missing.\"\n",
    "        error = True\n",
    "    elif (car_brand == None):\n",
    "        msg += u\"<b><font color='red'> &#127919 Your answer is incorrect:</font></b> check your code because the variable car_brand is missing.\"\n",
    "        error = True\n",
    "    elif (car_brand != \"Volvo\"):\n",
    "        msg += u\"<b><font color='red'> &#127919 Your answer is incorrect:</font></b> check your code because the car_brand variable does not have the correct value\"\n",
    "        error = True\n",
    "    elif (SPEED_OF_LIGTH == None):\n",
    "        msg += u\"<b><font color='red'> &#127919 Your answer is incorrect:</font></b> check your code because the variable which should save the value of the speed of light is missing. <font color='blue'> Tip:</font>Remember that constant values should be named using capital letters.\"\n",
    "        error = True\n",
    "    elif (SPEED_OF_LIGTH != 2.99792458e8):\n",
    "        msg += u\"<b><font color='red'> &#127919 Your answer is incorrect:</font></b> check your code because the SPEED_OF_LIGTH variable does not have the correct value\"\n",
    "        error = True\n",
    "\n",
    "\n",
    "    if error:\n",
    "        msg += \"</pre>\"\n",
    "        return 0, msg\n",
    "    else:\n",
    "        msg += u\"<b><font color='blue'> &#128013 Your answer is correct:</font></b> great job!</pre>\"\n",
    "        return 5, msg\n",
    "\n",
    "\n",
    "source_functions_names_01 = []\n",
    "source_variables_names_01 = [\"car_brand\", \"SPEED_OF_LIGHT\"]"
   ]
  },
  {
   "cell_type": "code",
   "execution_count": 13,
   "metadata": {
    "colab": {
     "base_uri": "https://localhost:8080/",
     "height": 201
    },
    "executionInfo": {
     "elapsed": 167,
     "status": "ok",
     "timestamp": 1708525566703,
     "user": {
      "displayName": "CARLOS ANDRES MERA BANGUERO",
      "userId": "05778031066984897450"
     },
     "user_tz": 300
    },
    "id": "bDdvUzYoPclZ",
    "outputId": "9a7d0943-9fed-4a75-9c94-5ad4915ea272"
   },
   "outputs": [
    {
     "data": {
      "text/html": [
       "<h1>grade: <font color='red'>0</font></h1><hr><h1>grader message</h1><hr/><pre>\n",
       "Checking your code ...\n",
       "\n",
       "<b><font color='red'> &#127919 Your answer is incorrect:</font></b> check your code because the car_brand variable does not have the correct value</pre>"
      ],
      "text/plain": [
       "<IPython.core.display.HTML object>"
      ]
     },
     "execution_count": 13,
     "metadata": {},
     "output_type": "execute_result"
    }
   ],
   "source": [
    "## TEACHER\n",
    "student.run_grader_locally(\"grader_01\", source_functions_names_01, source_variables_names_01, locals())"
   ]
  },
  {
   "cell_type": "code",
   "execution_count": 14,
   "metadata": {
    "executionInfo": {
     "elapsed": 427,
     "status": "ok",
     "timestamp": 1708525574910,
     "user": {
      "displayName": "CARLOS ANDRES MERA BANGUERO",
      "userId": "05778031066984897450"
     },
     "user_tz": 300
    },
    "id": "rKeYcSipPclZ"
   },
   "outputs": [],
   "source": [
    "## TEACHER SETGRADER\n",
    "import inspect\n",
    "student.set_grader(student.course_id, \"LR01.01\", 'T1',\n",
    "                  inspect.getsource(grader_01), 'grader_01',\n",
    "                  source_functions_names_01, source_variables_names_01)"
   ]
  },
  {
   "cell_type": "markdown",
   "metadata": {
    "id": "BeykYk8zPclZ"
   },
   "source": [
    "### **Send your answer here**"
   ]
  },
  {
   "cell_type": "code",
   "execution_count": null,
   "metadata": {
    "id": "he2DBjO2Pcla"
   },
   "outputs": [],
   "source": [
    "student.submit_task(namespace=globals(), task_id='T1');"
   ]
  },
  {
   "cell_type": "markdown",
   "metadata": {
    "id": "3csZRu14Pcla"
   },
   "source": [
    "# 🚊 **Exercise 2**:\n",
    "\n",
    "Complete the following function so that it computes the hypotenuse ($c$) of a right triangle from its two legs, $a$ and $b$."
   ]
  },
  {
   "cell_type": "code",
   "execution_count": null,
   "metadata": {
    "id": "nvY3YILmPcla"
   },
   "outputs": [],
   "source": [
    "def calculate_hypotenuse(a, b):\n",
    "    c = 0\n",
    "\n",
    "    ## --- YOUR CODE HERE ---\n",
    "\n",
    "    return c"
   ]
  },
  {
   "cell_type": "markdown",
   "metadata": {
    "id": "_RlE7iYqPcla"
   },
   "source": [
    "Test your code with a=4 and b=3. Your function should return 5.0."
   ]
  },
  {
   "cell_type": "code",
   "execution_count": null,
   "metadata": {
    "id": "AgqZd9ppPcla"
   },
   "outputs": [],
   "source": [
    "# Testing the function calculate_hypotenuse\n",
    "a = 4\n",
    "b = 3\n",
    "c = calculate_hypotenuse(a, b)\n",
    "print (c) # It should show 25"
   ]
  },
  {
   "cell_type": "markdown",
   "metadata": {
    "id": "AHaqEwovPcla"
   },
   "source": [
    "Test your code with random input values. This is actually what the automatic grader does."
   ]
  },
  {
   "cell_type": "code",
   "execution_count": null,
   "metadata": {
    "id": "97MhMSUzPclb"
   },
   "outputs": [],
   "source": [
    "import random\n",
    "a = random.randint(1, 25)\n",
    "b = random.randint(1, 25)\n",
    "c = calculate_hypotenuse(a, b)\n",
    "print (f\"Leg a={a}, Leg={b}, Hypotenuse={c}\") # Review your answer according to the printed values"
   ]
  },
  {
   "cell_type": "code",
   "execution_count": null,
   "metadata": {
    "id": "acrvULIhbElK"
   },
   "outputs": [],
   "source": [
    "## TEACHER ANSWER\n",
    "def calculate_hypotenuse(a, b):\n",
    "    c = 0\n",
    "    return (a**2 + b**2)**(1/2)"
   ]
  },
  {
   "cell_type": "code",
   "execution_count": null,
   "metadata": {
    "id": "Wexjzu6cPclb"
   },
   "outputs": [],
   "source": [
    "## TEACHER DEFINED GRADER\n",
    "def grader_02(functions, variables, caller_userid):\n",
    "\n",
    "    import random\n",
    "    import init\n",
    "\n",
    "    # Retrieve definitions\n",
    "    namespace = locals()\n",
    "    for f in functions.values():\n",
    "        exec(f, namespace)\n",
    "    st_calculate_hypotenuse = namespace[\"calculate_hypotenuse\"]\n",
    "\n",
    "    error = False\n",
    "    grade = 0\n",
    "    msg = \".... Error desconocido ...\"\n",
    "\n",
    "    for i in range(100):\n",
    "        a = random.randint(1, 100)\n",
    "        b = random.randint(1, 100)\n",
    "\n",
    "        # Student's solution\n",
    "        student_result = st_calculate_hypotenuse(a,b)\n",
    "\n",
    "        # Teacher's solution\n",
    "        teacher_result = (a**2 + b**2)**(1/2)\n",
    "\n",
    "        if (student_result != teacher_result) :\n",
    "            input = f\"a={a}, b={b}\"\n",
    "            msg = init.get_error_msg(input, teacher_result, student_result, calls=100)\n",
    "            error = True\n",
    "            break\n",
    "\n",
    "    if error:\n",
    "        return 0, msg\n",
    "    else:\n",
    "        msg = init.get_ok_msg(calls=100)\n",
    "        return 5, msg\n",
    "\n",
    "    return grade, msg\n",
    "\n",
    "source_functions_names_02 = [\"calculate_hypotenuse\"]\n",
    "source_variables_names_02 = []"
   ]
  },
  {
   "cell_type": "code",
   "execution_count": null,
   "metadata": {
    "id": "7GfIc92OPclb"
   },
   "outputs": [],
   "source": [
    "## TEACHER\n",
    "student.run_grader_locally(\"grader_02\", source_functions_names_02, source_variables_names_02, locals())"
   ]
  },
  {
   "cell_type": "code",
   "execution_count": null,
   "metadata": {
    "id": "FfT0ua0bPclb"
   },
   "outputs": [],
   "source": [
    "## TEACHER SETGRADER\n",
    "import inspect\n",
    "student.set_grader(student.course_id, \"LR01.01\", 'T2',\n",
    "                  inspect.getsource(grader_02), 'grader_02',\n",
    "                  source_functions_names_02, source_variables_names_02)"
   ]
  },
  {
   "cell_type": "markdown",
   "metadata": {
    "id": "OUoSJKgDPclb"
   },
   "source": [
    "### **Send your answer here**"
   ]
  },
  {
   "cell_type": "code",
   "execution_count": null,
   "metadata": {
    "id": "3VUBwHtnPclb"
   },
   "outputs": [],
   "source": [
    "student.submit_task(namespace=globals(), task_id='T2');"
   ]
  },
  {
   "cell_type": "markdown",
   "metadata": {
    "id": "UCVfv_DFPclb"
   },
   "source": [
    "# 🚊 **Exercise 3:**\n",
    "Given a two-digit number, design a function to obtain the inverted number. For example, if you give tne number 23 it should return 32."
   ]
  },
  {
   "cell_type": "code",
   "execution_count": null,
   "metadata": {
    "id": "vG484IxOPclc"
   },
   "outputs": [],
   "source": [
    "def get_invert_number(num):\n",
    "    num_invert = 0\n",
    "\n",
    "    ## --- YOUR CODE HERE ---\n",
    "\n",
    "    return num_invert"
   ]
  },
  {
   "cell_type": "markdown",
   "metadata": {
    "id": "hIkF0BG6Pclc"
   },
   "source": [
    "Test your code. For example, using the number 23, the following code block should print 32."
   ]
  },
  {
   "cell_type": "code",
   "execution_count": null,
   "metadata": {
    "id": "53uC-2gSPclc"
   },
   "outputs": [],
   "source": [
    "num = 23\n",
    "print(get_invert_number(num))"
   ]
  },
  {
   "cell_type": "code",
   "execution_count": 4,
   "metadata": {
    "executionInfo": {
     "elapsed": 184,
     "status": "ok",
     "timestamp": 1708524940379,
     "user": {
      "displayName": "CARLOS ANDRES MERA BANGUERO",
      "userId": "05778031066984897450"
     },
     "user_tz": 300
    },
    "id": "lmXmxU25iU1F"
   },
   "outputs": [],
   "source": [
    "## TEACHER ANSWER\n",
    "def get_invert_number(num):\n",
    "    num_invert = num % 10 * 10 + num // 10\n",
    "\n",
    "    return num_invert"
   ]
  },
  {
   "cell_type": "code",
   "execution_count": 3,
   "metadata": {
    "executionInfo": {
     "elapsed": 221,
     "status": "ok",
     "timestamp": 1708524934956,
     "user": {
      "displayName": "CARLOS ANDRES MERA BANGUERO",
      "userId": "05778031066984897450"
     },
     "user_tz": 300
    },
    "id": "ogYt9I8yPclc"
   },
   "outputs": [],
   "source": [
    "## TEACHER DEFINED GRADER\n",
    "def grader_03(functions, variables, caller_userid):\n",
    "\n",
    "    import random\n",
    "    import init\n",
    "\n",
    "    # Retrieve definitions\n",
    "    namespace = locals()\n",
    "    for f in functions.values():\n",
    "        exec(f, namespace)\n",
    "    st_get_invert_number = namespace[\"get_invert_number\"]\n",
    "\n",
    "    error = False\n",
    "    grade = 0\n",
    "    msg = \".... Error desconocido ...\"\n",
    "\n",
    "    for i in range(100):\n",
    "        num = random.randint(10, 100)\n",
    "\n",
    "        # Student's solution\n",
    "        student_result = st_get_invert_number(num)\n",
    "\n",
    "        # Teacher's solution\n",
    "        teacher_result = num % 10 * 10 + num // 10\n",
    "\n",
    "        if (student_result != teacher_result) :\n",
    "            input = f\"num = {num}\"\n",
    "            msg = init.get_error_msg(input, teacher_result, student_result, calls=100)\n",
    "            error = True\n",
    "            break\n",
    "\n",
    "    if error:\n",
    "        return 0, msg\n",
    "    else:\n",
    "        msg = init.get_ok_msg(calls=100)\n",
    "        return 5, msg\n",
    "\n",
    "    return grade, msg\n",
    "\n",
    "source_functions_names_03 = [\"get_invert_number\"]\n",
    "source_variables_names_03 = []"
   ]
  },
  {
   "cell_type": "code",
   "execution_count": 5,
   "metadata": {
    "colab": {
     "base_uri": "https://localhost:8080/",
     "height": 201
    },
    "executionInfo": {
     "elapsed": 187,
     "status": "ok",
     "timestamp": 1708524948109,
     "user": {
      "displayName": "CARLOS ANDRES MERA BANGUERO",
      "userId": "05778031066984897450"
     },
     "user_tz": 300
    },
    "id": "nLVkSeaNPclc",
    "outputId": "ce5176bd-1b13-4d0f-a228-97f71f5f0019"
   },
   "outputs": [
    {
     "data": {
      "text/html": [
       "<h1>grade: <font color='red'>5</font></h1><hr><h1>grader message</h1><hr/><pre>\n",
       "Checking your code with 100 random calls ...\n",
       "\n",
       "<b><font color='blue'>&#128013  Your answer is correct:</font></b> great job!\n",
       "</pre>"
      ],
      "text/plain": [
       "<IPython.core.display.HTML object>"
      ]
     },
     "execution_count": 5,
     "metadata": {},
     "output_type": "execute_result"
    }
   ],
   "source": [
    "## TEACHER\n",
    "student.run_grader_locally(\"grader_03\", source_functions_names_03, source_variables_names_03, locals())"
   ]
  },
  {
   "cell_type": "code",
   "execution_count": 6,
   "metadata": {
    "executionInfo": {
     "elapsed": 548,
     "status": "ok",
     "timestamp": 1708524954150,
     "user": {
      "displayName": "CARLOS ANDRES MERA BANGUERO",
      "userId": "05778031066984897450"
     },
     "user_tz": 300
    },
    "id": "Phimc8HOPclc"
   },
   "outputs": [],
   "source": [
    "## TEACHER SETGRADER\n",
    "import inspect\n",
    "student.set_grader(student.course_id, \"LR01.01\", 'T3',\n",
    "                  inspect.getsource(grader_03), 'grader_03',\n",
    "                  source_functions_names_03, source_variables_names_03)"
   ]
  },
  {
   "cell_type": "markdown",
   "metadata": {
    "id": "CYBeJCSsPclc"
   },
   "source": [
    "### **Send your answer here**"
   ]
  },
  {
   "cell_type": "code",
   "execution_count": null,
   "metadata": {
    "id": "PnTJAgyyPclc"
   },
   "outputs": [],
   "source": [
    "student.submit_task(namespace=globals(), task_id='T3');"
   ]
  },
  {
   "cell_type": "markdown",
   "metadata": {
    "id": "k7JWS3N0Pcld"
   },
   "source": [
    "# 🚊 **Exercise 4:**\n",
    "Complete the following function such that for a given amount less or iqual than 99 cents returns how many coins of 25, 10, 5 and 1 cent are required to obtain the given amonut. For example, for the amount of 12 cents the function should return 0, 1, 0, 2."
   ]
  },
  {
   "cell_type": "code",
   "execution_count": null,
   "metadata": {
    "id": "4-8q_76MPcld"
   },
   "outputs": [],
   "source": [
    "def get_change(amount):\n",
    "    coins_25 = 0\n",
    "    coins_10 = 0\n",
    "    coins_5 = 0\n",
    "    coins_1 = 0\n",
    "\n",
    "    ## --- YOUR CODE HERE ---\n",
    "\n",
    "    return coins_25, coins_10, coins_5, coins_1"
   ]
  },
  {
   "cell_type": "markdown",
   "metadata": {
    "id": "5f6dN0ubPcld"
   },
   "source": [
    "Test your code. For example, using the amount of 68, the following code block should print 2, 1, 1, 3"
   ]
  },
  {
   "cell_type": "code",
   "execution_count": null,
   "metadata": {
    "id": "D1tsiHvjPcld"
   },
   "outputs": [],
   "source": [
    "amount = 68\n",
    "print(get_change(amount))"
   ]
  },
  {
   "cell_type": "code",
   "execution_count": null,
   "metadata": {
    "id": "q6biRP5utNXi"
   },
   "outputs": [],
   "source": [
    "## TEACHER ANSWER\n",
    "def get_change(amount):\n",
    "    a = amount // 25\n",
    "    amount = amount % 25\n",
    "    b = amount // 10\n",
    "    amount = amount % 10\n",
    "    c = amount // 5\n",
    "    d = amount % 5\n",
    "    return a, b, c, d+1"
   ]
  },
  {
   "cell_type": "code",
   "execution_count": null,
   "metadata": {
    "id": "NlH_XraFPcld"
   },
   "outputs": [],
   "source": [
    "## TEACHER DEFINED GRADER\n",
    "def grader_04(functions, variables, caller_userid):\n",
    "\n",
    "    import random\n",
    "    import math\n",
    "    import init\n",
    "    import numpy as np\n",
    "\n",
    "    # Teacher's solution\n",
    "    def te_get_change(amount):\n",
    "        a = amount // 25\n",
    "        amount = amount % 25\n",
    "        b = amount // 10\n",
    "        amount = amount % 10\n",
    "        c = amount // 5\n",
    "        d = amount % 5\n",
    "        return a, b, c, d\n",
    "\n",
    "    # Retrieve definitions\n",
    "    namespace = locals()\n",
    "    for f in functions.values():\n",
    "        exec(f, namespace)\n",
    "    st_get_change = namespace[\"get_change\"]\n",
    "\n",
    "    error = False\n",
    "    grade = 0\n",
    "    msg = \".... Error desconocido ...\"\n",
    "\n",
    "    for i in range(10):\n",
    "        amount = random.randint(1, 100)\n",
    "\n",
    "        # Student's solution\n",
    "        student_result = np.array(st_get_change(amount))\n",
    "\n",
    "        # Teacher's solution\n",
    "        teacher_result = np.array(te_get_change(amount))\n",
    "\n",
    "        if not(np.allclose(teacher_result, student_result)):\n",
    "            input = f\"amount = {amount}\"\n",
    "            msg = init.get_error_msg(input, teacher_result, student_result, calls=100)\n",
    "            error = True\n",
    "            break\n",
    "\n",
    "    if error:\n",
    "        return 0, msg\n",
    "    else:\n",
    "        msg = init.get_ok_msg(calls=100)\n",
    "        return 5, msg\n",
    "\n",
    "    return grade, msg\n",
    "\n",
    "source_functions_names_04 = [\"get_change\"]\n",
    "source_variables_names_04 = []"
   ]
  },
  {
   "cell_type": "code",
   "execution_count": null,
   "metadata": {
    "id": "05Ij5W5-Pcld"
   },
   "outputs": [],
   "source": [
    "## TEACHER\n",
    "student.run_grader_locally(\"grader_04\", source_functions_names_04, source_variables_names_04, locals())"
   ]
  },
  {
   "cell_type": "code",
   "execution_count": null,
   "metadata": {
    "id": "iQFN-sn3rx_w"
   },
   "outputs": [],
   "source": [
    "## TEACHER SETGRADER\n",
    "import inspect\n",
    "student.set_grader(student.course_id, \"LR01.01\", 'T4',\n",
    "                  inspect.getsource(grader_04), 'grader_04',\n",
    "                  source_functions_names_04, source_variables_names_04)"
   ]
  },
  {
   "cell_type": "markdown",
   "metadata": {
    "id": "MhdirgkCt4i0"
   },
   "source": [
    "### **Send your answer here**"
   ]
  },
  {
   "cell_type": "code",
   "execution_count": null,
   "metadata": {
    "id": "WmZs-s2st4i1"
   },
   "outputs": [],
   "source": [
    "student.submit_task(namespace=globals(), task_id='T4');"
   ]
  }
 ],
 "metadata": {
  "colab": {
   "provenance": []
  },
  "kernelspec": {
   "display_name": "Python 3 (ipykernel)",
   "language": "python",
   "name": "python3"
  },
  "language_info": {
   "codemirror_mode": {
    "name": "ipython",
    "version": 3
   },
   "file_extension": ".py",
   "mimetype": "text/x-python",
   "name": "python",
   "nbconvert_exporter": "python",
   "pygments_lexer": "ipython3",
   "version": "3.11.5"
  },
  "widgets": {
   "application/vnd.jupyter.widget-state+json": {
    "05dd96008f804e6889f9a8799416991e": {
     "model_module": "@jupyter-widgets/base",
     "model_module_version": "1.2.0",
     "model_name": "LayoutModel",
     "state": {
      "_model_module": "@jupyter-widgets/base",
      "_model_module_version": "1.2.0",
      "_model_name": "LayoutModel",
      "_view_count": null,
      "_view_module": "@jupyter-widgets/base",
      "_view_module_version": "1.2.0",
      "_view_name": "LayoutView",
      "align_content": null,
      "align_items": null,
      "align_self": null,
      "border": null,
      "bottom": null,
      "display": null,
      "flex": null,
      "flex_flow": null,
      "grid_area": null,
      "grid_auto_columns": null,
      "grid_auto_flow": null,
      "grid_auto_rows": null,
      "grid_column": null,
      "grid_gap": null,
      "grid_row": null,
      "grid_template_areas": null,
      "grid_template_columns": null,
      "grid_template_rows": null,
      "height": "25px",
      "justify_content": null,
      "justify_items": null,
      "left": null,
      "margin": null,
      "max_height": null,
      "max_width": null,
      "min_height": null,
      "min_width": null,
      "object_fit": null,
      "object_position": null,
      "order": null,
      "overflow": null,
      "overflow_x": null,
      "overflow_y": null,
      "padding": null,
      "right": null,
      "top": null,
      "visibility": null,
      "width": "300px"
     }
    },
    "091d7b6555684e5698115e08b67479c6": {
     "model_module": "@jupyter-widgets/controls",
     "model_module_version": "1.5.0",
     "model_name": "ButtonStyleModel",
     "state": {
      "_model_module": "@jupyter-widgets/controls",
      "_model_module_version": "1.5.0",
      "_model_name": "ButtonStyleModel",
      "_view_count": null,
      "_view_module": "@jupyter-widgets/base",
      "_view_module_version": "1.2.0",
      "_view_name": "StyleView",
      "button_color": null,
      "font_weight": ""
     }
    },
    "0ce293a738504c17887d5143b61d30e0": {
     "model_module": "@jupyter-widgets/controls",
     "model_module_version": "1.5.0",
     "model_name": "VBoxModel",
     "state": {
      "_dom_classes": [],
      "_model_module": "@jupyter-widgets/controls",
      "_model_module_version": "1.5.0",
      "_model_name": "VBoxModel",
      "_view_count": null,
      "_view_module": "@jupyter-widgets/controls",
      "_view_module_version": "1.5.0",
      "_view_name": "VBoxView",
      "box_style": "",
      "children": [
       "IPY_MODEL_3e4c1628d98549adb053e8fa9c933523",
       "IPY_MODEL_7dbaa2346d4d46d491feece83da8ee8e"
      ],
      "layout": "IPY_MODEL_ffcdc84975584c99906cdb62a85f22a1"
     }
    },
    "2222fb037ded4de58820560020714de8": {
     "model_module": "@jupyter-widgets/controls",
     "model_module_version": "1.5.0",
     "model_name": "DescriptionStyleModel",
     "state": {
      "_model_module": "@jupyter-widgets/controls",
      "_model_module_version": "1.5.0",
      "_model_name": "DescriptionStyleModel",
      "_view_count": null,
      "_view_module": "@jupyter-widgets/base",
      "_view_module_version": "1.2.0",
      "_view_name": "StyleView",
      "description_width": ""
     }
    },
    "3e4c1628d98549adb053e8fa9c933523": {
     "model_module": "@jupyter-widgets/controls",
     "model_module_version": "1.5.0",
     "model_name": "TextModel",
     "state": {
      "_dom_classes": [],
      "_model_module": "@jupyter-widgets/controls",
      "_model_module_version": "1.5.0",
      "_model_name": "TextModel",
      "_view_count": null,
      "_view_module": "@jupyter-widgets/controls",
      "_view_module_version": "1.5.0",
      "_view_name": "TextView",
      "continuous_update": true,
      "description": "email",
      "description_tooltip": null,
      "disabled": false,
      "layout": "IPY_MODEL_05dd96008f804e6889f9a8799416991e",
      "placeholder": "​",
      "style": "IPY_MODEL_2222fb037ded4de58820560020714de8",
      "value": ""
     }
    },
    "5d08d53ef29242499df2bc9bc1b35e28": {
     "model_module": "@jupyter-widgets/controls",
     "model_module_version": "1.5.0",
     "model_name": "ButtonModel",
     "state": {
      "_dom_classes": [
       "login_button"
      ],
      "_model_module": "@jupyter-widgets/controls",
      "_model_module_version": "1.5.0",
      "_model_name": "ButtonModel",
      "_view_count": null,
      "_view_module": "@jupyter-widgets/controls",
      "_view_module_version": "1.5.0",
      "_view_name": "ButtonView",
      "button_style": "",
      "description": "Login with email",
      "disabled": false,
      "icon": "",
      "layout": "IPY_MODEL_e792079cfa1e432eb3055a61d4a3ff73",
      "style": "IPY_MODEL_d713d59106d84601a8925207e9d68a2c",
      "tooltip": ""
     }
    },
    "5fcabdbbf3d74db2a72c9824ea164dc0": {
     "model_module": "@jupyter-widgets/base",
     "model_module_version": "1.2.0",
     "model_name": "LayoutModel",
     "state": {
      "_model_module": "@jupyter-widgets/base",
      "_model_module_version": "1.2.0",
      "_model_name": "LayoutModel",
      "_view_count": null,
      "_view_module": "@jupyter-widgets/base",
      "_view_module_version": "1.2.0",
      "_view_name": "LayoutView",
      "align_content": null,
      "align_items": null,
      "align_self": null,
      "border": null,
      "bottom": null,
      "display": null,
      "flex": null,
      "flex_flow": null,
      "grid_area": null,
      "grid_auto_columns": null,
      "grid_auto_flow": null,
      "grid_auto_rows": null,
      "grid_column": null,
      "grid_gap": null,
      "grid_row": null,
      "grid_template_areas": null,
      "grid_template_columns": null,
      "grid_template_rows": null,
      "height": null,
      "justify_content": null,
      "justify_items": null,
      "left": null,
      "margin": null,
      "max_height": null,
      "max_width": null,
      "min_height": null,
      "min_width": null,
      "object_fit": null,
      "object_position": null,
      "order": null,
      "overflow": null,
      "overflow_x": null,
      "overflow_y": null,
      "padding": null,
      "right": null,
      "top": null,
      "visibility": null,
      "width": null
     }
    },
    "7dbaa2346d4d46d491feece83da8ee8e": {
     "model_module": "@jupyter-widgets/controls",
     "model_module_version": "1.5.0",
     "model_name": "PasswordModel",
     "state": {
      "_dom_classes": [],
      "_model_module": "@jupyter-widgets/controls",
      "_model_module_version": "1.5.0",
      "_model_name": "PasswordModel",
      "_view_count": null,
      "_view_module": "@jupyter-widgets/controls",
      "_view_module_version": "1.5.0",
      "_view_name": "PasswordView",
      "continuous_update": true,
      "description": "password",
      "description_tooltip": null,
      "disabled": false,
      "layout": "IPY_MODEL_c3ae6cdcaa644c2eaa80a57900e6797b",
      "placeholder": "​",
      "style": "IPY_MODEL_933b611d08e142868a8b9c8262cfe9ee",
      "value": ""
     }
    },
    "8620b4c51ff840d89bb836236d5c46d5": {
     "model_module": "@jupyter-widgets/base",
     "model_module_version": "1.2.0",
     "model_name": "LayoutModel",
     "state": {
      "_model_module": "@jupyter-widgets/base",
      "_model_module_version": "1.2.0",
      "_model_name": "LayoutModel",
      "_view_count": null,
      "_view_module": "@jupyter-widgets/base",
      "_view_module_version": "1.2.0",
      "_view_name": "LayoutView",
      "align_content": null,
      "align_items": null,
      "align_self": null,
      "border": null,
      "bottom": null,
      "display": null,
      "flex": null,
      "flex_flow": null,
      "grid_area": null,
      "grid_auto_columns": null,
      "grid_auto_flow": null,
      "grid_auto_rows": null,
      "grid_column": null,
      "grid_gap": null,
      "grid_row": null,
      "grid_template_areas": null,
      "grid_template_columns": null,
      "grid_template_rows": null,
      "height": "53px",
      "justify_content": null,
      "justify_items": null,
      "left": null,
      "margin": null,
      "max_height": null,
      "max_width": null,
      "min_height": null,
      "min_width": null,
      "object_fit": null,
      "object_position": null,
      "order": null,
      "overflow": null,
      "overflow_x": null,
      "overflow_y": null,
      "padding": null,
      "right": null,
      "top": null,
      "visibility": null,
      "width": "200px"
     }
    },
    "933b611d08e142868a8b9c8262cfe9ee": {
     "model_module": "@jupyter-widgets/controls",
     "model_module_version": "1.5.0",
     "model_name": "DescriptionStyleModel",
     "state": {
      "_model_module": "@jupyter-widgets/controls",
      "_model_module_version": "1.5.0",
      "_model_name": "DescriptionStyleModel",
      "_view_count": null,
      "_view_module": "@jupyter-widgets/base",
      "_view_module_version": "1.2.0",
      "_view_name": "StyleView",
      "description_width": ""
     }
    },
    "ab237b9d4ff949a4a3047cbd7fe755db": {
     "model_module": "@jupyter-widgets/controls",
     "model_module_version": "1.5.0",
     "model_name": "DescriptionStyleModel",
     "state": {
      "_model_module": "@jupyter-widgets/controls",
      "_model_module_version": "1.5.0",
      "_model_name": "DescriptionStyleModel",
      "_view_count": null,
      "_view_module": "@jupyter-widgets/base",
      "_view_module_version": "1.2.0",
      "_view_name": "StyleView",
      "description_width": ""
     }
    },
    "b7a2f7ae7ccf4057b9a81695dc9f5d4b": {
     "model_module": "@jupyter-widgets/controls",
     "model_module_version": "1.5.0",
     "model_name": "HTMLModel",
     "state": {
      "_dom_classes": [],
      "_model_module": "@jupyter-widgets/controls",
      "_model_module_version": "1.5.0",
      "_model_name": "HTMLModel",
      "_view_count": null,
      "_view_module": "@jupyter-widgets/controls",
      "_view_module_version": "1.5.0",
      "_view_name": "HTMLView",
      "description": "",
      "description_tooltip": null,
      "layout": "IPY_MODEL_fc493359ed3c490693c499712dc183e0",
      "placeholder": "​",
      "style": "IPY_MODEL_ab237b9d4ff949a4a3047cbd7fe755db",
      "value": "<center><big>or</big></center>"
     }
    },
    "b911958937c942b2bd5649f387a02efd": {
     "model_module": "@jupyter-widgets/controls",
     "model_module_version": "1.5.0",
     "model_name": "ButtonModel",
     "state": {
      "_dom_classes": [
       "google_button"
      ],
      "_model_module": "@jupyter-widgets/controls",
      "_model_module_version": "1.5.0",
      "_model_name": "ButtonModel",
      "_view_count": null,
      "_view_module": "@jupyter-widgets/controls",
      "_view_module_version": "1.5.0",
      "_view_name": "ButtonView",
      "button_style": "",
      "description": "Login with Google",
      "disabled": false,
      "icon": "",
      "layout": "IPY_MODEL_8620b4c51ff840d89bb836236d5c46d5",
      "style": "IPY_MODEL_091d7b6555684e5698115e08b67479c6",
      "tooltip": ""
     }
    },
    "c3ae6cdcaa644c2eaa80a57900e6797b": {
     "model_module": "@jupyter-widgets/base",
     "model_module_version": "1.2.0",
     "model_name": "LayoutModel",
     "state": {
      "_model_module": "@jupyter-widgets/base",
      "_model_module_version": "1.2.0",
      "_model_name": "LayoutModel",
      "_view_count": null,
      "_view_module": "@jupyter-widgets/base",
      "_view_module_version": "1.2.0",
      "_view_name": "LayoutView",
      "align_content": null,
      "align_items": null,
      "align_self": null,
      "border": null,
      "bottom": null,
      "display": null,
      "flex": null,
      "flex_flow": null,
      "grid_area": null,
      "grid_auto_columns": null,
      "grid_auto_flow": null,
      "grid_auto_rows": null,
      "grid_column": null,
      "grid_gap": null,
      "grid_row": null,
      "grid_template_areas": null,
      "grid_template_columns": null,
      "grid_template_rows": null,
      "height": "24px",
      "justify_content": null,
      "justify_items": null,
      "left": null,
      "margin": null,
      "max_height": null,
      "max_width": null,
      "min_height": null,
      "min_width": null,
      "object_fit": null,
      "object_position": null,
      "order": null,
      "overflow": null,
      "overflow_x": null,
      "overflow_y": null,
      "padding": null,
      "right": null,
      "top": null,
      "visibility": null,
      "width": "300px"
     }
    },
    "c8b6c1d18d1340768f09c154c528547e": {
     "model_module": "@jupyter-widgets/controls",
     "model_module_version": "1.5.0",
     "model_name": "HBoxModel",
     "state": {
      "_dom_classes": [],
      "_model_module": "@jupyter-widgets/controls",
      "_model_module_version": "1.5.0",
      "_model_name": "HBoxModel",
      "_view_count": null,
      "_view_module": "@jupyter-widgets/controls",
      "_view_module_version": "1.5.0",
      "_view_name": "HBoxView",
      "box_style": "",
      "children": [
       "IPY_MODEL_0ce293a738504c17887d5143b61d30e0",
       "IPY_MODEL_5d08d53ef29242499df2bc9bc1b35e28",
       "IPY_MODEL_b7a2f7ae7ccf4057b9a81695dc9f5d4b",
       "IPY_MODEL_b911958937c942b2bd5649f387a02efd"
      ],
      "layout": "IPY_MODEL_5fcabdbbf3d74db2a72c9824ea164dc0"
     }
    },
    "d713d59106d84601a8925207e9d68a2c": {
     "model_module": "@jupyter-widgets/controls",
     "model_module_version": "1.5.0",
     "model_name": "ButtonStyleModel",
     "state": {
      "_model_module": "@jupyter-widgets/controls",
      "_model_module_version": "1.5.0",
      "_model_name": "ButtonStyleModel",
      "_view_count": null,
      "_view_module": "@jupyter-widgets/base",
      "_view_module_version": "1.2.0",
      "_view_name": "StyleView",
      "button_color": null,
      "font_weight": ""
     }
    },
    "e792079cfa1e432eb3055a61d4a3ff73": {
     "model_module": "@jupyter-widgets/base",
     "model_module_version": "1.2.0",
     "model_name": "LayoutModel",
     "state": {
      "_model_module": "@jupyter-widgets/base",
      "_model_module_version": "1.2.0",
      "_model_name": "LayoutModel",
      "_view_count": null,
      "_view_module": "@jupyter-widgets/base",
      "_view_module_version": "1.2.0",
      "_view_name": "LayoutView",
      "align_content": null,
      "align_items": null,
      "align_self": null,
      "border": null,
      "bottom": null,
      "display": null,
      "flex": null,
      "flex_flow": null,
      "grid_area": null,
      "grid_auto_columns": null,
      "grid_auto_flow": null,
      "grid_auto_rows": null,
      "grid_column": null,
      "grid_gap": null,
      "grid_row": null,
      "grid_template_areas": null,
      "grid_template_columns": null,
      "grid_template_rows": null,
      "height": "53px",
      "justify_content": null,
      "justify_items": null,
      "left": null,
      "margin": null,
      "max_height": null,
      "max_width": null,
      "min_height": null,
      "min_width": null,
      "object_fit": null,
      "object_position": null,
      "order": null,
      "overflow": null,
      "overflow_x": null,
      "overflow_y": null,
      "padding": null,
      "right": null,
      "top": null,
      "visibility": null,
      "width": "150px"
     }
    },
    "fc493359ed3c490693c499712dc183e0": {
     "model_module": "@jupyter-widgets/base",
     "model_module_version": "1.2.0",
     "model_name": "LayoutModel",
     "state": {
      "_model_module": "@jupyter-widgets/base",
      "_model_module_version": "1.2.0",
      "_model_name": "LayoutModel",
      "_view_count": null,
      "_view_module": "@jupyter-widgets/base",
      "_view_module_version": "1.2.0",
      "_view_name": "LayoutView",
      "align_content": null,
      "align_items": null,
      "align_self": null,
      "border": null,
      "bottom": null,
      "display": null,
      "flex": null,
      "flex_flow": null,
      "grid_area": null,
      "grid_auto_columns": null,
      "grid_auto_flow": null,
      "grid_auto_rows": null,
      "grid_column": null,
      "grid_gap": null,
      "grid_row": null,
      "grid_template_areas": null,
      "grid_template_columns": null,
      "grid_template_rows": null,
      "height": null,
      "justify_content": null,
      "justify_items": null,
      "left": null,
      "margin": null,
      "max_height": null,
      "max_width": null,
      "min_height": null,
      "min_width": null,
      "object_fit": null,
      "object_position": null,
      "order": null,
      "overflow": null,
      "overflow_x": null,
      "overflow_y": null,
      "padding": null,
      "right": null,
      "top": null,
      "visibility": null,
      "width": "100px"
     }
    },
    "ffcdc84975584c99906cdb62a85f22a1": {
     "model_module": "@jupyter-widgets/base",
     "model_module_version": "1.2.0",
     "model_name": "LayoutModel",
     "state": {
      "_model_module": "@jupyter-widgets/base",
      "_model_module_version": "1.2.0",
      "_model_name": "LayoutModel",
      "_view_count": null,
      "_view_module": "@jupyter-widgets/base",
      "_view_module_version": "1.2.0",
      "_view_name": "LayoutView",
      "align_content": null,
      "align_items": null,
      "align_self": null,
      "border": null,
      "bottom": null,
      "display": null,
      "flex": null,
      "flex_flow": null,
      "grid_area": null,
      "grid_auto_columns": null,
      "grid_auto_flow": null,
      "grid_auto_rows": null,
      "grid_column": null,
      "grid_gap": null,
      "grid_row": null,
      "grid_template_areas": null,
      "grid_template_columns": null,
      "grid_template_rows": null,
      "height": null,
      "justify_content": null,
      "justify_items": null,
      "left": null,
      "margin": null,
      "max_height": null,
      "max_width": null,
      "min_height": null,
      "min_width": null,
      "object_fit": null,
      "object_position": null,
      "order": null,
      "overflow": null,
      "overflow_x": null,
      "overflow_y": null,
      "padding": null,
      "right": null,
      "top": null,
      "visibility": null,
      "width": null
     }
    }
   }
  }
 },
 "nbformat": 4,
 "nbformat_minor": 4
}
