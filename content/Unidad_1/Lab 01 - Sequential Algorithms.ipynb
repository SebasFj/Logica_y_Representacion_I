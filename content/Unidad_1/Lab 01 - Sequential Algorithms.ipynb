{
 "cells": [
  {
   "cell_type": "markdown",
   "metadata": {
    "id": "OrjEJF1IPclS"
   },
   "source": [
    "<img src=\"https://raw.githubusercontent.com/carlosmera20/Logica_y_Representacion_I/main/content/local/imgs/encabezado.png\">\n",
    "\n",
    "<font size=4>\n",
    "📢 <b>Profesor:</b> Carlos Andres Mera Banguero - <a href=\"https://github.com/carlosmera20/\">https://github.com/carlosmera20/</a><br/>\n",
    "💻 <b>Programa:</b> Ingeniería de Sistemas <br/><br/>\n",
    "</font>"
   ]
  },
  {
   "cell_type": "markdown",
   "metadata": {
    "id": "dK27CGn9ARvA"
   },
   "source": [
    "# 🐍 <b>LAB 01 - Sequential algorithms</b>"
   ]
  },
  {
   "cell_type": "code",
   "execution_count": null,
   "metadata": {
    "id": "nG68ZO4zPclV"
   },
   "outputs": [],
   "source": [
    "!wget --no-cache -O init.py -q https://raw.githubusercontent.com/carlosmera20/Logica_y_Representacion_I/main/content/init.py\n",
    "import init; init.init(force_download=False); init.get_weblink()"
   ]
  },
  {
   "cell_type": "code",
   "execution_count": null,
   "metadata": {
    "id": "ZKuvE7MEPclX"
   },
   "outputs": [],
   "source": [
    "import inspect\n",
    "from local.lib.rlxmoocapi import session\n",
    "session.LoginSequence(endpoint=init.endpoint, course_id=init.course_id, lab_id=\"LR01.01\", varname=\"student\");"
   ]
  },
  {
   "cell_type": "markdown",
   "metadata": {
    "id": "UYlsggsBPclX"
   },
   "source": [
    "# 🚊 **Exercise 1:**\n",
    "\n",
    "Define a variable named car_brand and assign the value Volvo to it."
   ]
  },
  {
   "cell_type": "code",
   "execution_count": null,
   "metadata": {
    "id": "Y69y0Y02PclY"
   },
   "outputs": [],
   "source": [
    "## --- YOUR CODE HERE ---"
   ]
  },
  {
   "cell_type": "markdown",
   "metadata": {
    "id": "ZpecKUD7PclY"
   },
   "source": [
    "The value of the speed of light is $2.99792458 \\times 10^8$. Define a constant with that name to save that value."
   ]
  },
  {
   "cell_type": "code",
   "execution_count": null,
   "metadata": {
    "id": "hh3syB0DPclY"
   },
   "outputs": [],
   "source": [
    "## --- YOUR CODE HERE ---"
   ]
  },
  {
   "cell_type": "markdown",
   "metadata": {
    "id": "BeykYk8zPclZ"
   },
   "source": [
    "### **Send your answer here**"
   ]
  },
  {
   "cell_type": "code",
   "execution_count": null,
   "metadata": {
    "colab": {
     "base_uri": "https://localhost:8080/",
     "height": 146
    },
    "executionInfo": {
     "elapsed": 10753,
     "status": "ok",
     "timestamp": 1708441017007,
     "user": {
      "displayName": "CARLOS ANDRES MERA BANGUERO",
      "userId": "05778031066984897450"
     },
     "user_tz": 300
    },
    "id": "he2DBjO2Pcla",
    "outputId": "3c33afcd-8beb-4161-95bc-75eac422356e"
   },
   "outputs": [],
   "source": [
    "student.submit_task(namespace=globals(), task_id='T1');"
   ]
  },
  {
   "cell_type": "markdown",
   "metadata": {
    "id": "3csZRu14Pcla"
   },
   "source": [
    "# 🚊 **Exercise 2**:\n",
    "\n",
    "Complete the following function so that it computes the hypotenuse ($c$) of a right triangle from its two legs, $a$ and $b$."
   ]
  },
  {
   "cell_type": "code",
   "execution_count": null,
   "metadata": {
    "id": "nvY3YILmPcla"
   },
   "outputs": [],
   "source": [
    "def calculate_hypotenuse(a, b):\n",
    "    c = 0\n",
    "\n",
    "    ## --- YOUR CODE HERE ---\n",
    "\n",
    "    return c"
   ]
  },
  {
   "cell_type": "markdown",
   "metadata": {
    "id": "_RlE7iYqPcla"
   },
   "source": [
    "Test your code with a=4 and b=3. Your function should return 5.0."
   ]
  },
  {
   "cell_type": "code",
   "execution_count": null,
   "metadata": {
    "id": "AgqZd9ppPcla"
   },
   "outputs": [],
   "source": [
    "# Testing the function calculate_hypotenuse\n",
    "a = 4\n",
    "b = 3\n",
    "c = calculate_hypotenuse(a, b)\n",
    "print (c) # It should show 25"
   ]
  },
  {
   "cell_type": "markdown",
   "metadata": {
    "id": "AHaqEwovPcla"
   },
   "source": [
    "Test your code with random input values. This is actually what the automatic grader does."
   ]
  },
  {
   "cell_type": "code",
   "execution_count": null,
   "metadata": {
    "id": "97MhMSUzPclb"
   },
   "outputs": [],
   "source": [
    "import random\n",
    "a = random.randint(1, 25)\n",
    "b = random.randint(1, 25)\n",
    "c = calculate_hypotenuse(a, b)\n",
    "print (f\"Leg a={a}, Leg={b}, Hypotenuse={c}\") # Review your answer according to the printed values"
   ]
  },
  {
   "cell_type": "markdown",
   "metadata": {
    "id": "OUoSJKgDPclb"
   },
   "source": [
    "### **Send your answer here**"
   ]
  },
  {
   "cell_type": "code",
   "execution_count": null,
   "metadata": {
    "colab": {
     "base_uri": "https://localhost:8080/",
     "height": 146
    },
    "executionInfo": {
     "elapsed": 10653,
     "status": "ok",
     "timestamp": 1708442355569,
     "user": {
      "displayName": "CARLOS ANDRES MERA BANGUERO",
      "userId": "05778031066984897450"
     },
     "user_tz": 300
    },
    "id": "3VUBwHtnPclb",
    "outputId": "f9b8dedb-aa7e-410f-ee32-b4563acdc046"
   },
   "outputs": [],
   "source": [
    "student.submit_task(namespace=globals(), task_id='T2');"
   ]
  },
  {
   "cell_type": "markdown",
   "metadata": {
    "id": "UCVfv_DFPclb"
   },
   "source": [
    "# 🚊 **Exercise 3:**\n",
    "Given a two-digit number, design a function to obtain the inverted number. For example, if you give tne number 23 it should return 32."
   ]
  },
  {
   "cell_type": "code",
   "execution_count": null,
   "metadata": {
    "id": "vG484IxOPclc"
   },
   "outputs": [],
   "source": [
    "def get_invert_number(num):\n",
    "    num_invert = 0\n",
    "\n",
    "    ## --- YOUR CODE HERE ---\n",
    "\n",
    "    return num_invert"
   ]
  },
  {
   "cell_type": "markdown",
   "metadata": {
    "id": "hIkF0BG6Pclc"
   },
   "source": [
    "Test your code. For example, using the number 23, the following code block should print 32."
   ]
  },
  {
   "cell_type": "code",
   "execution_count": null,
   "metadata": {
    "id": "53uC-2gSPclc"
   },
   "outputs": [],
   "source": [
    "num = 23\n",
    "print(get_invert_number(num))"
   ]
  },
  {
   "cell_type": "markdown",
   "metadata": {
    "id": "CYBeJCSsPclc"
   },
   "source": [
    "### **Send your answer here**"
   ]
  },
  {
   "cell_type": "code",
   "execution_count": null,
   "metadata": {
    "colab": {
     "base_uri": "https://localhost:8080/",
     "height": 146
    },
    "executionInfo": {
     "elapsed": 13067,
     "status": "ok",
     "timestamp": 1708442658417,
     "user": {
      "displayName": "CARLOS ANDRES MERA BANGUERO",
      "userId": "05778031066984897450"
     },
     "user_tz": 300
    },
    "id": "PnTJAgyyPclc",
    "outputId": "a6438f67-d6e8-4315-de71-0df4f4a44e6a"
   },
   "outputs": [],
   "source": [
    "student.submit_task(namespace=globals(), task_id='T3');"
   ]
  },
  {
   "cell_type": "markdown",
   "metadata": {
    "id": "k7JWS3N0Pcld"
   },
   "source": [
    "# 🚊 **Exercise 4:**\n",
    "Complete the following function such that for a given amount less or iqual than 99 cents returns how many coins of 25, 10, 5 and 1 cent are required to obtain the given amonut. For example, for the amount of 12 cents the function should return 0, 1, 0, 2."
   ]
  },
  {
   "cell_type": "code",
   "execution_count": null,
   "metadata": {
    "id": "4-8q_76MPcld"
   },
   "outputs": [],
   "source": [
    "def get_change(amount):\n",
    "    coins_25 = 0\n",
    "    coins_10 = 0\n",
    "    coins_5 = 0\n",
    "    coins_1 = 0\n",
    "\n",
    "    ## --- YOUR CODE HERE ---\n",
    "\n",
    "    return coins_25, coins_10, coins_5, coins_1"
   ]
  },
  {
   "cell_type": "markdown",
   "metadata": {
    "id": "5f6dN0ubPcld"
   },
   "source": [
    "Test your code. For example, using the amount of 68, the following code block should print 2, 1, 1, 3"
   ]
  },
  {
   "cell_type": "code",
   "execution_count": null,
   "metadata": {
    "id": "D1tsiHvjPcld"
   },
   "outputs": [],
   "source": [
    "amount = 68\n",
    "print(get_change(amount))"
   ]
  },
  {
   "cell_type": "markdown",
   "metadata": {
    "id": "MhdirgkCt4i0"
   },
   "source": [
    "### **Send your answer here**"
   ]
  },
  {
   "cell_type": "code",
   "execution_count": null,
   "metadata": {
    "colab": {
     "base_uri": "https://localhost:8080/",
     "height": 198
    },
    "executionInfo": {
     "elapsed": 11320,
     "status": "ok",
     "timestamp": 1708442732349,
     "user": {
      "displayName": "CARLOS ANDRES MERA BANGUERO",
      "userId": "05778031066984897450"
     },
     "user_tz": 300
    },
    "id": "WmZs-s2st4i1",
    "outputId": "286c9d77-1987-4da3-b1e2-910bf2813a01"
   },
   "outputs": [],
   "source": [
    "student.submit_task(namespace=globals(), task_id='T4');"
   ]
  }
 ],
 "metadata": {
  "colab": {
   "provenance": []
  },
  "kernelspec": {
   "display_name": "Python 3 (ipykernel)",
   "language": "python",
   "name": "python3"
  },
  "language_info": {
   "codemirror_mode": {
    "name": "ipython",
    "version": 3
   },
   "file_extension": ".py",
   "mimetype": "text/x-python",
   "name": "python",
   "nbconvert_exporter": "python",
   "pygments_lexer": "ipython3",
   "version": "3.11.5"
  }
 },
 "nbformat": 4,
 "nbformat_minor": 4
}
