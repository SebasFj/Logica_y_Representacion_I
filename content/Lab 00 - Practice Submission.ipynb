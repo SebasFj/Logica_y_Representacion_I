{
 "cells": [
  {
   "cell_type": "markdown",
   "metadata": {},
   "source": [
    "<img src=\"https://raw.githubusercontent.com/carlosmera20/Logica_y_Representacion_I/main/content/local/imgs/encabezado.png\">\n",
    "\n",
    "<font size=4>\n",
    "📢 <b>Profesor:</b> Carlos Andres Mera Banguero - <a href=\"https://github.com/carlosmera20/\">https://github.com/carlosmera20/</a><br/>\n",
    "💻 <b>Programa:</b> Ingeniería de Sistemas <br/><br/>\n",
    "</font>"
   ]
  },
  {
   "cell_type": "markdown",
   "metadata": {},
   "source": [
    "# 🐍 <b>LAB 01 - Submission example</b>"
   ]
  },
  {
   "cell_type": "code",
   "execution_count": null,
   "metadata": {},
   "outputs": [],
   "source": [
    "!wget --no-cache -O init.py -q https://raw.githubusercontent.com/carlosmera20/Logica_y_Representacion_I/main/content/init.py\n",
    "import init; init.init(force_download=False); init.get_weblink()"
   ]
  },
  {
   "cell_type": "code",
   "execution_count": null,
   "metadata": {},
   "outputs": [],
   "source": [
    "import inspect\n",
    "from local.lib.rlxmoocapi import session\n",
    "session.LoginSequence(endpoint=init.endpoint, course_id=init.course_id, lab_id=\"LR01.00\", varname=\"student\");"
   ]
  },
  {
   "cell_type": "code",
   "execution_count": null,
   "metadata": {},
   "outputs": [],
   "source": [
    "import numpy as np"
   ]
  },
  {
   "cell_type": "markdown",
   "metadata": {},
   "source": [
    "## <b>Ejercicio 1: Obtén el máximo y el mínimo de una lista</b>\n",
    "\n",
    "Una de las estructuras de datos en python son las listas, y aprender a obtener datos de ellas es importante para el manejo del lenguaje, por esto vamos a hallar el **max** y el **min** de una de ellas\n",
    "\n",
    "Ejemplo:\n",
    "    [1, 7, 11, 3, 5, 2]\n",
    "    \n",
    "    el minimo valor es 1\n",
    "    el valor maximo es 11\n",
    "    \n",
    "Deberás de calcular el máximo y mínimo de la siguiente lista. Puedes obtenerlos como quieras (a mano, programando en python, con excel, etc.).    "
   ]
  },
  {
   "cell_type": "code",
   "execution_count": null,
   "metadata": {},
   "outputs": [],
   "source": [
    "lst = np.random.randint(50, size=20)\n",
    "lst"
   ]
  },
  {
   "cell_type": "markdown",
   "metadata": {},
   "source": [
    "**Tu solución**\n",
    "\n",
    "Debes de asignar a las variables max y min el valor del maximo y minimo valor en la lista list"
   ]
  },
  {
   "cell_type": "code",
   "execution_count": null,
   "metadata": {},
   "outputs": [],
   "source": [
    "maximum = ...\n",
    "minimum = ..."
   ]
  },
  {
   "cell_type": "markdown",
   "metadata": {},
   "source": [
    "**Registra tu solución en linea**"
   ]
  },
  {
   "cell_type": "code",
   "execution_count": null,
   "metadata": {},
   "outputs": [],
   "source": [
    "student.submit_task(namespace=globals(), task_id='T1');"
   ]
  },
  {
   "cell_type": "markdown",
   "metadata": {},
   "source": [
    "## <b>Ejercicio 2: Crea dos funciones que encuentren la media y desviación estándar</b>\n",
    "\n",
    "Completa las dos funciones `list_mean` y `list_std` para que al recibir una lista o un vector `numpy` como argumento calculen la media y desviación estándar, respectivamente.\n",
    "\n",
    "Ejemplo:\n",
    "\n",
    "    > lst_1 = np.random.randint(10, size=5)\n",
    "    > print(lst_1)\n",
    "    > print(list_mean(lst_1))\n",
    "    > print(list_stdev(lst_1))\n",
    "    \n",
    "    [6 4 1 7 2]\n",
    "    4.0\n",
    "    2.280350850198276\n",
    "    "
   ]
  },
  {
   "cell_type": "code",
   "execution_count": null,
   "metadata": {},
   "outputs": [],
   "source": [
    "import numpy as np\n",
    "\n",
    "def list_mean(lst):\n",
    "    ## your code here ##\n",
    "    mean = ...\n",
    "    return mean\n",
    "\n",
    "def list_stdev(lst):\n",
    "    ## your code here ##\n",
    "    stdev = ...\n",
    "    return stdev"
   ]
  },
  {
   "cell_type": "markdown",
   "metadata": {},
   "source": [
    "Prueba tus funciones"
   ]
  },
  {
   "cell_type": "code",
   "execution_count": null,
   "metadata": {},
   "outputs": [],
   "source": [
    "lst_1 = np.random.randint(10, size=5)\n",
    "print(lst_1)\n",
    "print(list_mean(lst_1))\n",
    "print(list_stdev(lst_1))"
   ]
  },
  {
   "cell_type": "markdown",
   "metadata": {},
   "source": [
    "**Registra tu solución en linea**"
   ]
  },
  {
   "cell_type": "code",
   "execution_count": null,
   "metadata": {},
   "outputs": [],
   "source": [
    "student.submit_task(namespace=globals(), task_id='T2');"
   ]
  }
 ],
 "metadata": {
  "kernelspec": {
   "display_name": "Python 3 (ipykernel)",
   "language": "python",
   "name": "python3"
  },
  "language_info": {
   "codemirror_mode": {
    "name": "ipython",
    "version": 3
   },
   "file_extension": ".py",
   "mimetype": "text/x-python",
   "name": "python",
   "nbconvert_exporter": "python",
   "pygments_lexer": "ipython3",
   "version": "3.11.5"
  }
 },
 "nbformat": 4,
 "nbformat_minor": 4
}
